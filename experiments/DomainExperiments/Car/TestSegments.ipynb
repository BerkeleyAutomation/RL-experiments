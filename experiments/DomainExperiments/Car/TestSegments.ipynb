{
 "cells": [
  {
   "cell_type": "code",
   "execution_count": 1,
   "metadata": {
    "collapsed": false
   },
   "outputs": [],
   "source": [
    "% matplotlib inline\n",
    "from rlpy.CustomDomains import RCSegment"
   ]
  },
  {
   "cell_type": "code",
   "execution_count": 28,
   "metadata": {
    "collapsed": false
   },
   "outputs": [
    {
     "name": "stdout",
     "output_type": "stream",
     "text": [
      "[-0.62, -0.66, -0.55, -0.54, -0.68, -0.61, -0.61, -0.61, -0.57, -0.68, -0.62, -0.61, -0.61, -0.66, -0.55, -0.59, -0.59, -0.62, -0.61, -0.57, -0.52, -0.57, -0.61, -0.61, -0.52, -0.59, -0.52, -0.52, -0.61, -0.62, -0.55, -0.59, -0.55, -0.59, -0.64, -0.61, -0.57, -0.62, -0.62, -0.64, -0.66, -0.66, -0.69, -0.62, -0.54, -0.64, -0.54, -0.54, -0.59, -0.64, -0.54, -0.61, -0.68, -0.64, -0.68, -0.52, -0.55, -0.57, -0.52, -0.52, -0.54, -0.61, -0.66, -0.57, -0.61, -0.59, -0.62, -0.55, -0.52, -0.59, -0.62, -0.54, -0.66, -0.54, -0.69, -0.64, -0.64, -0.59, -0.54, -0.57, -0.62, -0.55, -0.55, -0.52, -0.54, -0.52, -0.55, -0.52, -0.59, -0.57, -0.66, -0.52, -0.52, -0.68, -0.68, -0.68, -0.68, -0.66, -0.59, -0.64, -0.62, -0.57, -0.55, -0.59, -0.52, -0.59, -0.59, -0.62, -0.59, -0.62, -0.61, -0.68, -0.68, -0.55, -0.52, -0.62, -0.52, -0.69, -0.59, -0.59, -0.68, -0.57, -0.54, -0.59, -0.57, -0.59, -0.62, -0.59, -0.59, -0.59, -0.52, -0.52, -0.59, -0.62, -0.52, -0.61, -0.57, -0.57, -0.66, -0.64, -0.64, -0.61, -0.62, -0.59, -0.68, -0.59, -0.54, -0.62, -0.57, -0.52, -0.57, -0.62]\n"
     ]
    }
   ],
   "source": [
    "print [round(i[3], 2) for i in x]\n",
    "    "
   ]
  },
  {
   "cell_type": "code",
   "execution_count": 36,
   "metadata": {
    "collapsed": false
   },
   "outputs": [
    {
     "data": {
      "text/plain": [
       "(array([ 0.,  0.,  0.,  0.]), False, array([0, 1, 2, 3, 4, 5, 6, 7, 8]))"
      ]
     },
     "execution_count": 36,
     "metadata": {},
     "output_type": "execute_result"
    }
   ],
   "source": [
    "testCar = RCSegment(rewardfile=\"../CarIRL/trial.p\")\n",
    "# testCar = RCSegment(rewardfile=\"rewardhalf.p\")\n",
    "testCar.s0()"
   ]
  },
  {
   "cell_type": "code",
   "execution_count": 37,
   "metadata": {
    "collapsed": false
   },
   "outputs": [
    {
     "data": {
      "image/png": "[encoded data removed]",
      "text/plain": [
       "<matplotlib.figure.Figure at 0x10a1ccdd0>"
      ]
     },
     "metadata": {},
     "output_type": "display_data"
    }
   ],
   "source": [
    "% matplotlib inline\n",
    "testCar.show_inline()"
   ]
  },
  {
   "cell_type": "code",
   "execution_count": null,
   "metadata": {
    "collapsed": false
   },
   "outputs": [],
   "source": []
  },
  {
   "cell_type": "code",
   "execution_count": 35,
   "metadata": {
    "collapsed": false
   },
   "outputs": [
    {
     "data": {
      "image/png": "[encoded data removed]",
      "text/plain": [
       "<matplotlib.figure.Figure at 0x10a12d850>"
      ]
     },
     "metadata": {},
     "output_type": "display_data"
    }
   ],
   "source": [
    "% matplotlib inline \n",
    "import pickle as p\n",
    "y = [[-0.57, 0.03, -0.3, -0.61]]\n",
    "with open(\"testgoal.p\", \"w\") as t:\n",
    "    p.dump(y, t)\n",
    "    \n",
    "testCar = RCSegment(rewardfile=\"testgoal.p\")\n",
    "# testCar = RCSegment(rewardfile=\"rewardhalf.p\")\n",
    "testCar.s0()\n",
    "testCar.show_inline()"
   ]
  },
  {
   "cell_type": "code",
   "execution_count": null,
   "metadata": {
    "collapsed": false
   },
   "outputs": [],
   "source": [
    "import numpy as np\n",
    "x = np.array([a[1] for a in actions])"
   ]
  },
  {
   "cell_type": "code",
   "execution_count": null,
   "metadata": {
    "collapsed": false
   },
   "outputs": [],
   "source": [
    "y = [[round(a, 2) for a in n] for n in x]\n",
    "print y"
   ]
  },
  {
   "cell_type": "code",
   "execution_count": null,
   "metadata": {
    "collapsed": false
   },
   "outputs": [],
   "source": [
    "import pickle\n",
    "import os\n",
    "with open(\"rewardnew/parkingez.p\", \"w\") as f:\n",
    "    pickle.dump(y, f)"
   ]
  },
  {
   "cell_type": "code",
   "execution_count": null,
   "metadata": {
    "collapsed": false
   },
   "outputs": [],
   "source": [
    "\n",
    "with open(\"rewardnew/parkingez.p\", \"r\") as f:\n",
    "    x = pickle.load(f)"
   ]
  },
  {
   "cell_type": "code",
   "execution_count": null,
   "metadata": {
    "collapsed": false
   },
   "outputs": [],
   "source": [
    "x"
   ]
  },
  {
   "cell_type": "code",
   "execution_count": null,
   "metadata": {
    "collapsed": true
   },
   "outputs": [],
   "source": [
    "with open(\"rewardnew/parking3.p\", \"w\") as f:\n",
    "    pickle.dump(n, f)"
   ]
  },
  {
   "cell_type": "code",
   "execution_count": null,
   "metadata": {
    "collapsed": true
   },
   "outputs": [],
   "source": []
  }
 ],
 "metadata": {
  "kernelspec": {
   "display_name": "Python 2",
   "language": "python",
   "name": "python2"
  },
  "language_info": {
   "codemirror_mode": {
    "name": "ipython",
    "version": 2
   },
   "file_extension": ".py",
   "mimetype": "text/x-python",
   "name": "python",
   "nbconvert_exporter": "python",
   "pygments_lexer": "ipython2",
   "version": "2.7.11"
  }
 },
 "nbformat": 4,
 "nbformat_minor": 0
}
