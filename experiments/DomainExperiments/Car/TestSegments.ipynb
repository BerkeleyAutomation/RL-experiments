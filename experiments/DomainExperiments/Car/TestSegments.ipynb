{
 "cells": [
  {
   "cell_type": "code",
   "execution_count": 1,
   "metadata": {
    "collapsed": true
   },
   "outputs": [],
   "source": [
    "% matplotlib inline\n",
    "from rlpy.CustomDomains import RCSegment"
   ]
  },
  {
   "cell_type": "code",
   "execution_count": 2,
   "metadata": {
    "collapsed": false
   },
   "outputs": [
    {
     "data": {
      "text/plain": [
       "(array([ 0.,  0.,  0.,  0.]), False, array([0, 1, 2, 3, 4, 5, 6, 7, 8]))"
      ]
     },
     "execution_count": 2,
     "metadata": {},
     "output_type": "execute_result"
    }
   ],
   "source": [
    "testCar = RCSegment(rewardfile=\"reward.p\")\n",
    "testCar.s0()"
   ]
  },
  {
   "cell_type": "code",
   "execution_count": 3,
   "metadata": {
    "collapsed": false
   },
   "outputs": [
    {
     "data": {
      "image/png": "[encoded data removed]",
      "text/plain": [
       "<matplotlib.figure.Figure at 0x7f027bde6e90>"
      ]
     },
     "metadata": {},
     "output_type": "display_data"
    }
   ],
   "source": [
    "% matplotlib inline\n",
    "testCar.show_inline()"
   ]
  },
  {
   "cell_type": "code",
   "execution_count": 4,
   "metadata": {
    "collapsed": false
   },
   "outputs": [
    {
     "name": "stdout",
     "output_type": "stream",
     "text": [
      "Segmented [ 0.    0.    0.03  0.  ] [[ 0.    0.    0.03  0.  ]\n",
      " [ 0.01  0.    0.06  0.02]\n",
      " [ 0.03  0.    0.09  0.05]\n",
      " [ 0.05  0.    0.12  0.1 ]\n",
      " [ 0.13  0.01  0.15  0.26]\n",
      " [ 0.18  0.02  0.15  0.35]\n",
      " [ 0.22  0.04  0.15  0.43]\n",
      " [ 0.26  0.06  0.15  0.52]\n",
      " [ 0.3   0.08  0.15  0.61]\n",
      " [ 0.34  0.11  0.15  0.69]\n",
      " [ 0.4   0.17  0.12  0.87]\n",
      " [ 0.43  0.19  0.09  0.94]\n",
      " [ 0.44  0.22  0.06  0.99]\n",
      " [ 0.45  0.23  0.03  1.02]\n",
      " [ 0.46  0.24  0.    1.04]\n",
      " [ 0.46  0.24  0.    1.04]\n",
      " [ 0.46  0.24  0.    1.04]\n",
      " [ 0.46  0.24  0.    1.04]]\n",
      "Segmented [ 0.01  0.    0.06  0.02] [[ 0.01  0.    0.06  0.02]\n",
      " [ 0.03  0.    0.09  0.05]\n",
      " [ 0.05  0.    0.12  0.1 ]\n",
      " [ 0.13  0.01  0.15  0.26]\n",
      " [ 0.18  0.02  0.15  0.35]\n",
      " [ 0.22  0.04  0.15  0.43]\n",
      " [ 0.26  0.06  0.15  0.52]\n",
      " [ 0.3   0.08  0.15  0.61]\n",
      " [ 0.34  0.11  0.15  0.69]\n",
      " [ 0.4   0.17  0.12  0.87]\n",
      " [ 0.43  0.19  0.09  0.94]\n",
      " [ 0.44  0.22  0.06  0.99]\n",
      " [ 0.45  0.23  0.03  1.02]\n",
      " [ 0.46  0.24  0.    1.04]\n",
      " [ 0.46  0.24  0.    1.04]\n",
      " [ 0.46  0.24  0.    1.04]\n",
      " [ 0.46  0.24  0.    1.04]]\n",
      "Segmented [ 0.03  0.    0.09  0.05] [[ 0.03  0.    0.09  0.05]\n",
      " [ 0.05  0.    0.12  0.1 ]\n",
      " [ 0.13  0.01  0.15  0.26]\n",
      " [ 0.18  0.02  0.15  0.35]\n",
      " [ 0.22  0.04  0.15  0.43]\n",
      " [ 0.26  0.06  0.15  0.52]\n",
      " [ 0.3   0.08  0.15  0.61]\n",
      " [ 0.34  0.11  0.15  0.69]\n",
      " [ 0.4   0.17  0.12  0.87]\n",
      " [ 0.43  0.19  0.09  0.94]\n",
      " [ 0.44  0.22  0.06  0.99]\n",
      " [ 0.45  0.23  0.03  1.02]\n",
      " [ 0.46  0.24  0.    1.04]\n",
      " [ 0.46  0.24  0.    1.04]\n",
      " [ 0.46  0.24  0.    1.04]\n",
      " [ 0.46  0.24  0.    1.04]]\n",
      "Segmented [ 0.05  0.    0.12  0.1 ] [[ 0.05  0.    0.12  0.1 ]\n",
      " [ 0.13  0.01  0.15  0.26]\n",
      " [ 0.18  0.02  0.15  0.35]\n",
      " [ 0.22  0.04  0.15  0.43]\n",
      " [ 0.26  0.06  0.15  0.52]\n",
      " [ 0.3   0.08  0.15  0.61]\n",
      " [ 0.34  0.11  0.15  0.69]\n",
      " [ 0.4   0.17  0.12  0.87]\n",
      " [ 0.43  0.19  0.09  0.94]\n",
      " [ 0.44  0.22  0.06  0.99]\n",
      " [ 0.45  0.23  0.03  1.02]\n",
      " [ 0.46  0.24  0.    1.04]\n",
      " [ 0.46  0.24  0.    1.04]\n",
      " [ 0.46  0.24  0.    1.04]\n",
      " [ 0.46  0.24  0.    1.04]]\n",
      "Segmented [ 0.13  0.01  0.15  0.26] [[ 0.13  0.01  0.15  0.26]\n",
      " [ 0.18  0.02  0.15  0.35]\n",
      " [ 0.22  0.04  0.15  0.43]\n",
      " [ 0.26  0.06  0.15  0.52]\n",
      " [ 0.3   0.08  0.15  0.61]\n",
      " [ 0.34  0.11  0.15  0.69]\n",
      " [ 0.4   0.17  0.12  0.87]\n",
      " [ 0.43  0.19  0.09  0.94]\n",
      " [ 0.44  0.22  0.06  0.99]\n",
      " [ 0.45  0.23  0.03  1.02]\n",
      " [ 0.46  0.24  0.    1.04]\n",
      " [ 0.46  0.24  0.    1.04]\n",
      " [ 0.46  0.24  0.    1.04]\n",
      " [ 0.46  0.24  0.    1.04]]\n",
      "(0.1, array([ 0.08976663,  0.00544858,  0.15      ,  0.17320508]), False, array([0, 1, 2, 3, 4, 5, 6, 7, 8]))\n",
      "Segmented [ 0.18  0.02  0.15  0.35] [[ 0.18  0.02  0.15  0.35]\n",
      " [ 0.22  0.04  0.15  0.43]\n",
      " [ 0.26  0.06  0.15  0.52]\n",
      " [ 0.3   0.08  0.15  0.61]\n",
      " [ 0.34  0.11  0.15  0.69]\n",
      " [ 0.4   0.17  0.12  0.87]\n",
      " [ 0.43  0.19  0.09  0.94]\n",
      " [ 0.44  0.22  0.06  0.99]\n",
      " [ 0.45  0.23  0.03  1.02]\n",
      " [ 0.46  0.24  0.    1.04]\n",
      " [ 0.46  0.24  0.    1.04]\n",
      " [ 0.46  0.24  0.    1.04]\n",
      " [ 0.46  0.24  0.    1.04]]\n",
      "Segmented [ 0.22  0.04  0.15  0.43] [[ 0.22  0.04  0.15  0.43]\n",
      " [ 0.26  0.06  0.15  0.52]\n",
      " [ 0.3   0.08  0.15  0.61]\n",
      " [ 0.34  0.11  0.15  0.69]\n",
      " [ 0.4   0.17  0.12  0.87]\n",
      " [ 0.43  0.19  0.09  0.94]\n",
      " [ 0.44  0.22  0.06  0.99]\n",
      " [ 0.45  0.23  0.03  1.02]\n",
      " [ 0.46  0.24  0.    1.04]\n",
      " [ 0.46  0.24  0.    1.04]\n",
      " [ 0.46  0.24  0.    1.04]\n",
      " [ 0.46  0.24  0.    1.04]]\n",
      "Segmented [ 0.26  0.06  0.15  0.52] [[ 0.26  0.06  0.15  0.52]\n",
      " [ 0.3   0.08  0.15  0.61]\n",
      " [ 0.34  0.11  0.15  0.69]\n",
      " [ 0.4   0.17  0.12  0.87]\n",
      " [ 0.43  0.19  0.09  0.94]\n",
      " [ 0.44  0.22  0.06  0.99]\n",
      " [ 0.45  0.23  0.03  1.02]\n",
      " [ 0.46  0.24  0.    1.04]\n",
      " [ 0.46  0.24  0.    1.04]\n",
      " [ 0.46  0.24  0.    1.04]\n",
      " [ 0.46  0.24  0.    1.04]]\n",
      "Segmented [ 0.3   0.08  0.15  0.61] [[ 0.3   0.08  0.15  0.61]\n",
      " [ 0.34  0.11  0.15  0.69]\n",
      " [ 0.4   0.17  0.12  0.87]\n",
      " [ 0.43  0.19  0.09  0.94]\n",
      " [ 0.44  0.22  0.06  0.99]\n",
      " [ 0.45  0.23  0.03  1.02]\n",
      " [ 0.46  0.24  0.    1.04]\n",
      " [ 0.46  0.24  0.    1.04]\n",
      " [ 0.46  0.24  0.    1.04]\n",
      " [ 0.46  0.24  0.    1.04]]\n",
      "Segmented [ 0.34  0.11  0.15  0.69] [[ 0.34  0.11  0.15  0.69]\n",
      " [ 0.4   0.17  0.12  0.87]\n",
      " [ 0.43  0.19  0.09  0.94]\n",
      " [ 0.44  0.22  0.06  0.99]\n",
      " [ 0.45  0.23  0.03  1.02]\n",
      " [ 0.46  0.24  0.    1.04]\n",
      " [ 0.46  0.24  0.    1.04]\n",
      " [ 0.46  0.24  0.    1.04]\n",
      " [ 0.46  0.24  0.    1.04]]\n",
      "Segmented [ 0.4   0.17  0.12  0.87] [[ 0.4   0.17  0.12  0.87]\n",
      " [ 0.43  0.19  0.09  0.94]\n",
      " [ 0.44  0.22  0.06  0.99]\n",
      " [ 0.45  0.23  0.03  1.02]\n",
      " [ 0.46  0.24  0.    1.04]\n",
      " [ 0.46  0.24  0.    1.04]\n",
      " [ 0.46  0.24  0.    1.04]\n",
      " [ 0.46  0.24  0.    1.04]]\n",
      "Segmented [ 0.43  0.19  0.09  0.94] [[ 0.43  0.19  0.09  0.94]\n",
      " [ 0.44  0.22  0.06  0.99]\n",
      " [ 0.45  0.23  0.03  1.02]\n",
      " [ 0.46  0.24  0.    1.04]\n",
      " [ 0.46  0.24  0.    1.04]\n",
      " [ 0.46  0.24  0.    1.04]\n",
      " [ 0.46  0.24  0.    1.04]]\n",
      "(0.1, array([ 0.37142375,  0.13565091,  0.15      ,  0.77942286]), False, array([0, 1, 2, 3, 4, 5, 6, 7, 8]))\n",
      "Segmented [ 0.44  0.22  0.06  0.99] [[ 0.44  0.22  0.06  0.99]\n",
      " [ 0.45  0.23  0.03  1.02]\n",
      " [ 0.46  0.24  0.    1.04]\n",
      " [ 0.46  0.24  0.    1.04]\n",
      " [ 0.46  0.24  0.    1.04]\n",
      " [ 0.46  0.24  0.    1.04]]\n",
      "Segmented [ 0.45  0.23  0.03  1.02] [[ 0.45  0.23  0.03  1.02]\n",
      " [ 0.46  0.24  0.    1.04]\n",
      " [ 0.46  0.24  0.    1.04]\n",
      " [ 0.46  0.24  0.    1.04]\n",
      " [ 0.46  0.24  0.    1.04]]\n",
      "Segmented [ 0.46  0.24  0.    1.04] [[ 0.46  0.24  0.    1.04]\n",
      " [ 0.46  0.24  0.    1.04]\n",
      " [ 0.46  0.24  0.    1.04]\n",
      " [ 0.46  0.24  0.    1.04]]\n",
      "Segmented [ 0.46  0.24  0.    1.04] [[ 0.46  0.24  0.    1.04]\n",
      " [ 0.46  0.24  0.    1.04]\n",
      " [ 0.46  0.24  0.    1.04]]\n",
      "Segmented [ 0.46  0.24  0.    1.04] [[ 0.46  0.24  0.    1.04]\n",
      " [ 0.46  0.24  0.    1.04]]\n",
      "(0.6, array([ 0.45739559,  0.23913187,  0.        ,  1.03923048]), True, array([0, 1, 2, 3, 4, 5, 6, 7, 8]))\n",
      "Segmented [ 0.46  0.24  0.    1.04] [[ 0.46  0.24  0.    1.04]]\n",
      "(0.6, array([ 0.45739559,  0.23913187,  0.        ,  1.03923048]), True, array([0, 1, 2, 3, 4, 5, 6, 7, 8]))\n"
     ]
    },
    {
     "data": {
      "image/png": "[encoded data removed]",
      "text/plain": [
       "<matplotlib.figure.Figure at 0x7f026db2f9d0>"
      ]
     },
     "metadata": {},
     "output_type": "display_data"
    },
    {
     "data": {
      "image/png": "[encoded data removed]",
      "text/plain": [
       "<matplotlib.figure.Figure at 0x7f026de85d10>"
      ]
     },
     "metadata": {},
     "output_type": "display_data"
    },
    {
     "data": {
      "image/png": "[encoded data removed]",
      "text/plain": [
       "<matplotlib.figure.Figure at 0x7f026db40110>"
      ]
     },
     "metadata": {},
     "output_type": "display_data"
    },
    {
     "data": {
      "image/png": "[encoded data removed]",
      "text/plain": [
       "<matplotlib.figure.Figure at 0x7f026d8d6c90>"
      ]
     },
     "metadata": {},
     "output_type": "display_data"
    }
   ],
   "source": [
    "###  B N F\n",
    "### [0 1 2] - negative angle\n",
    "### [3 4 5] - neutral angle\n",
    "### [6 7 8] - positive angle\n",
    "\n",
    "def go(d, num):\n",
    "    actions = []\n",
    "    for i in range(num - 1):\n",
    "        n = testCar.step(d)\n",
    "#         actions += [n]\n",
    "        if n[0] == 0.4:\n",
    "            print n\n",
    "    print testCar.step(d)\n",
    "    testCar.show_inline()\n",
    "    return actions\n",
    "\n",
    "REVERSE_R, COAST_R, DRIVE_R = range(3)\n",
    "REVERSE_, COAST_, DRIVE_ = range(3, 6)\n",
    "REVERSE_LEFT, COAST_LEFT, DRIVE_LEFT = range(6, 9)\n",
    "\n",
    "testCar.s0()\n",
    "actions = []\n",
    "actions += go(DRIVE_LEFT, 5) \n",
    "actions += go(COAST_LEFT, 7)\n",
    "actions += go(REVERSE_LEFT, 5)\n",
    "actions += go(COAST_, 5)\n",
    "\n",
    "# go(DRIVE_, 3)\n",
    "# go(COAST_LEFT, 18)\n",
    "# go(REVERSE_LEFT, 3)\n",
    "# go(COAST_, 1)\n",
    "\n",
    "# for i in range(5):\n",
    "#     print testCar.step(DRIVE_)\n",
    "# testCar.show_inline()\n",
    "# print \"Next\"\n",
    "\n",
    "# for i in range(7):\n",
    "#     print testCar.step(8)\n",
    "# for i in range(5):\n",
    "#     print testCar.step(3)\n",
    "# testCar.show_inline()\n",
    "# for i in range(3):\n",
    "#     print testCar.step(3)\n",
    "# testCar.show_inline()\n"
   ]
  },
  {
   "cell_type": "code",
   "execution_count": null,
   "metadata": {
    "collapsed": false
   },
   "outputs": [],
   "source": [
    "testCar.get_car_corners(testCar.state)"
   ]
  },
  {
   "cell_type": "code",
   "execution_count": null,
   "metadata": {
    "collapsed": false
   },
   "outputs": [],
   "source": [
    "import numpy as np\n",
    "x = np.array([a[1] for a in actions])"
   ]
  },
  {
   "cell_type": "code",
   "execution_count": null,
   "metadata": {
    "collapsed": false
   },
   "outputs": [],
   "source": [
    "y = np.vectorize(lambda n: round(n, 2))"
   ]
  },
  {
   "cell_type": "code",
   "execution_count": null,
   "metadata": {
    "collapsed": false
   },
   "outputs": [],
   "source": [
    "n = y(x).asList()\n",
    "print n"
   ]
  },
  {
   "cell_type": "code",
   "execution_count": null,
   "metadata": {
    "collapsed": false
   },
   "outputs": [],
   "source": [
    "import json\n",
    "\n",
    "with open(\"reward.json\", \"w\") as f:\n",
    "    json.dump(n, f)"
   ]
  },
  {
   "cell_type": "code",
   "execution_count": null,
   "metadata": {
    "collapsed": true
   },
   "outputs": [],
   "source": []
  }
 ],
 "metadata": {
  "kernelspec": {
   "display_name": "Python 2",
   "language": "python",
   "name": "python2"
  },
  "language_info": {
   "codemirror_mode": {
    "name": "ipython",
    "version": 2
   },
   "file_extension": ".py",
   "mimetype": "text/x-python",
   "name": "python",
   "nbconvert_exporter": "python",
   "pygments_lexer": "ipython2",
   "version": "2.7.6"
  }
 },
 "nbformat": 4,
 "nbformat_minor": 0
}
